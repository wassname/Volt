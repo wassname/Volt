{
 "cells": [
  {
   "cell_type": "code",
   "execution_count": 1,
   "id": "ce655bc0",
   "metadata": {
    "ExecuteTime": {
     "end_time": "2022-07-16T08:16:33.309772Z",
     "start_time": "2022-07-16T08:16:32.894416Z"
    }
   },
   "outputs": [
    {
     "data": {
      "text/plain": [
       "1"
      ]
     },
     "execution_count": 1,
     "metadata": {},
     "output_type": "execute_result"
    }
   ],
   "source": [
    "import numpy as np\n",
    "import matplotlib.pyplot as plt\n",
    "import pandas as pd\n",
    "\n",
    "palette = [\"red\", \"blue\", \"green\", \"orange\", \"purple\", \"#AF7595\", \"#E6480F\", \"#FA9500\"]\n",
    "plt.style.use('ggplot')\n",
    "plt.rcParams['figure.figsize'] = (14.0, 6)\n",
    "\n",
    "%load_ext autoreload\n",
    "%autoreload 2\n",
    "\n",
    "from dotenv import load_dotenv\n",
    "load_dotenv()\n",
    "\n",
    "from pathlib import Path\n",
    "from tqdm.auto import tqdm\n",
    "import logging, os, re\n",
    "import collections, functools, itertools\n",
    "\n",
    "import torch\n",
    "\n",
    "from loguru import logger\n",
    "logger.remove()\n",
    "logger.add(os.sys.stdout, colorize=True, format=\"<level>{time} | {message}</level>\")\n"
   ]
  },
  {
   "cell_type": "markdown",
   "id": "7e60355f",
   "metadata": {},
   "source": [
    "# index"
   ]
  },
  {
   "cell_type": "code",
   "execution_count": 2,
   "id": "bb96e213-4560-45c5-b77c-21f130597f7b",
   "metadata": {
    "ExecuteTime": {
     "end_time": "2022-07-16T08:14:33.029173Z",
     "start_time": "2022-07-16T08:14:33.017376Z"
    }
   },
   "outputs": [],
   "source": [
    "stocks = sorted(Path('../experiments/stocks/saved-outputs').glob('*'))\n",
    "results = []\n",
    "for stock in stocks:\n",
    "    rs = sorted(stock.glob(\"*\"))\n",
    "    for p in rs:\n",
    "        model, date = p.stem.split('_', 1)\n",
    "        splits = p.stem.split('_')\n",
    "        date = splits[-1]\n",
    "        model = '_'.join(p.stem.split('_')[:-1])\n",
    "        stock_name = p.parent.name\n",
    "        results.append(dict(\n",
    "            model=model,\n",
    "            stock=stock_name,\n",
    "            date=pd.Timestamp(date),\n",
    "            path=p\n",
    "        ))"
   ]
  },
  {
   "cell_type": "code",
   "execution_count": 3,
   "id": "eba9ee4f",
   "metadata": {
    "ExecuteTime": {
     "end_time": "2022-07-16T08:14:33.190987Z",
     "start_time": "2022-07-16T08:14:33.176067Z"
    }
   },
   "outputs": [
    {
     "data": {
      "text/html": [
       "<div>\n",
       "<style scoped>\n",
       "    .dataframe tbody tr th:only-of-type {\n",
       "        vertical-align: middle;\n",
       "    }\n",
       "\n",
       "    .dataframe tbody tr th {\n",
       "        vertical-align: top;\n",
       "    }\n",
       "\n",
       "    .dataframe thead th {\n",
       "        text-align: right;\n",
       "    }\n",
       "</style>\n",
       "<table border=\"1\" class=\"dataframe\">\n",
       "  <thead>\n",
       "    <tr style=\"text-align: right;\">\n",
       "      <th></th>\n",
       "      <th>model</th>\n",
       "      <th>stock</th>\n",
       "      <th>date</th>\n",
       "      <th>path</th>\n",
       "    </tr>\n",
       "  </thead>\n",
       "  <tbody>\n",
       "    <tr>\n",
       "      <th>0</th>\n",
       "      <td>lstm</td>\n",
       "      <td>ADBE</td>\n",
       "      <td>2020-07-21</td>\n",
       "      <td>../experiments/stocks/saved-outputs/ADBE/lstm_...</td>\n",
       "    </tr>\n",
       "    <tr>\n",
       "      <th>1</th>\n",
       "      <td>lstm</td>\n",
       "      <td>ADBE</td>\n",
       "      <td>2020-08-18</td>\n",
       "      <td>../experiments/stocks/saved-outputs/ADBE/lstm_...</td>\n",
       "    </tr>\n",
       "    <tr>\n",
       "      <th>2</th>\n",
       "      <td>lstm</td>\n",
       "      <td>ADBE</td>\n",
       "      <td>2020-09-16</td>\n",
       "      <td>../experiments/stocks/saved-outputs/ADBE/lstm_...</td>\n",
       "    </tr>\n",
       "    <tr>\n",
       "      <th>3</th>\n",
       "      <td>lstm</td>\n",
       "      <td>ADBE</td>\n",
       "      <td>2020-10-14</td>\n",
       "      <td>../experiments/stocks/saved-outputs/ADBE/lstm_...</td>\n",
       "    </tr>\n",
       "    <tr>\n",
       "      <th>4</th>\n",
       "      <td>lstm</td>\n",
       "      <td>ADBE</td>\n",
       "      <td>2020-11-11</td>\n",
       "      <td>../experiments/stocks/saved-outputs/ADBE/lstm_...</td>\n",
       "    </tr>\n",
       "    <tr>\n",
       "      <th>...</th>\n",
       "      <td>...</td>\n",
       "      <td>...</td>\n",
       "      <td>...</td>\n",
       "      <td>...</td>\n",
       "    </tr>\n",
       "    <tr>\n",
       "      <th>145</th>\n",
       "      <td>volt_ewma300</td>\n",
       "      <td>GOOG</td>\n",
       "      <td>2022-02-18</td>\n",
       "      <td>../experiments/stocks/saved-outputs/GOOG/volt_...</td>\n",
       "    </tr>\n",
       "    <tr>\n",
       "      <th>146</th>\n",
       "      <td>volt_ewma300</td>\n",
       "      <td>GOOG</td>\n",
       "      <td>2022-03-21</td>\n",
       "      <td>../experiments/stocks/saved-outputs/GOOG/volt_...</td>\n",
       "    </tr>\n",
       "    <tr>\n",
       "      <th>147</th>\n",
       "      <td>volt_ewma300</td>\n",
       "      <td>GOOG</td>\n",
       "      <td>2022-04-19</td>\n",
       "      <td>../experiments/stocks/saved-outputs/GOOG/volt_...</td>\n",
       "    </tr>\n",
       "    <tr>\n",
       "      <th>148</th>\n",
       "      <td>volt_ewma300</td>\n",
       "      <td>GOOG</td>\n",
       "      <td>2022-05-17</td>\n",
       "      <td>../experiments/stocks/saved-outputs/GOOG/volt_...</td>\n",
       "    </tr>\n",
       "    <tr>\n",
       "      <th>149</th>\n",
       "      <td>volt_ewma300</td>\n",
       "      <td>GOOG</td>\n",
       "      <td>2022-06-15</td>\n",
       "      <td>../experiments/stocks/saved-outputs/GOOG/volt_...</td>\n",
       "    </tr>\n",
       "  </tbody>\n",
       "</table>\n",
       "<p>150 rows × 4 columns</p>\n",
       "</div>"
      ],
      "text/plain": [
       "            model stock       date  \\\n",
       "0            lstm  ADBE 2020-07-21   \n",
       "1            lstm  ADBE 2020-08-18   \n",
       "2            lstm  ADBE 2020-09-16   \n",
       "3            lstm  ADBE 2020-10-14   \n",
       "4            lstm  ADBE 2020-11-11   \n",
       "..            ...   ...        ...   \n",
       "145  volt_ewma300  GOOG 2022-02-18   \n",
       "146  volt_ewma300  GOOG 2022-03-21   \n",
       "147  volt_ewma300  GOOG 2022-04-19   \n",
       "148  volt_ewma300  GOOG 2022-05-17   \n",
       "149  volt_ewma300  GOOG 2022-06-15   \n",
       "\n",
       "                                                  path  \n",
       "0    ../experiments/stocks/saved-outputs/ADBE/lstm_...  \n",
       "1    ../experiments/stocks/saved-outputs/ADBE/lstm_...  \n",
       "2    ../experiments/stocks/saved-outputs/ADBE/lstm_...  \n",
       "3    ../experiments/stocks/saved-outputs/ADBE/lstm_...  \n",
       "4    ../experiments/stocks/saved-outputs/ADBE/lstm_...  \n",
       "..                                                 ...  \n",
       "145  ../experiments/stocks/saved-outputs/GOOG/volt_...  \n",
       "146  ../experiments/stocks/saved-outputs/GOOG/volt_...  \n",
       "147  ../experiments/stocks/saved-outputs/GOOG/volt_...  \n",
       "148  ../experiments/stocks/saved-outputs/GOOG/volt_...  \n",
       "149  ../experiments/stocks/saved-outputs/GOOG/volt_...  \n",
       "\n",
       "[150 rows x 4 columns]"
      ]
     },
     "execution_count": 3,
     "metadata": {},
     "output_type": "execute_result"
    }
   ],
   "source": [
    "df_r = pd.DataFrame(results)\n",
    "df_r"
   ]
  },
  {
   "cell_type": "code",
   "execution_count": 4,
   "id": "73b34667",
   "metadata": {
    "ExecuteTime": {
     "end_time": "2022-07-16T08:15:11.808774Z",
     "start_time": "2022-07-16T08:15:11.797783Z"
    }
   },
   "outputs": [
    {
     "data": {
      "text/plain": [
       "(lstm            75\n",
       " volt_ewma300    75\n",
       " Name: model, dtype: int64,\n",
       " ADBE    50\n",
       " AMZN    50\n",
       " GOOG    50\n",
       " Name: stock, dtype: int64)"
      ]
     },
     "execution_count": 4,
     "metadata": {},
     "output_type": "execute_result"
    }
   ],
   "source": [
    "df_r.model.value_counts(), df_r.stock.value_counts()"
   ]
  },
  {
   "cell_type": "markdown",
   "id": "430894ca",
   "metadata": {},
   "source": [
    "# load"
   ]
  },
  {
   "cell_type": "code",
   "execution_count": 5,
   "id": "b41de424",
   "metadata": {
    "ExecuteTime": {
     "end_time": "2022-07-16T08:23:49.838948Z",
     "start_time": "2022-07-16T08:23:49.825909Z"
    }
   },
   "outputs": [
    {
     "data": {
      "text/plain": [
       "ADBE    50\n",
       "AMZN    50\n",
       "GOOG    50\n",
       "Name: stock, dtype: int64"
      ]
     },
     "execution_count": 5,
     "metadata": {},
     "output_type": "execute_result"
    }
   ],
   "source": [
    "df_r.stock.value_counts()"
   ]
  },
  {
   "cell_type": "code",
   "execution_count": 6,
   "id": "cfb5ccaa",
   "metadata": {
    "ExecuteTime": {
     "end_time": "2022-07-16T08:24:06.115309Z",
     "start_time": "2022-07-16T08:24:05.647765Z"
    }
   },
   "outputs": [
    {
     "name": "stdout",
     "output_type": "stream",
     "text": [
      "Warning no robinhood utils.\n"
     ]
    }
   ],
   "source": [
    "tckr = \"ADBE\"\n",
    "\n",
    "from voltron.data import make_ticker_list, GetStockHistory"
   ]
  },
  {
   "cell_type": "code",
   "execution_count": 7,
   "id": "94dc9bb0",
   "metadata": {
    "ExecuteTime": {
     "end_time": "2022-07-16T08:35:22.557524Z",
     "start_time": "2022-07-16T08:35:21.539881Z"
    }
   },
   "outputs": [
    {
     "name": "stdout",
     "output_type": "stream",
     "text": [
      "ADBE\n"
     ]
    },
    {
     "ename": "IndexError",
     "evalue": "index 0 is out of bounds for axis 0 with size 0",
     "output_type": "error",
     "traceback": [
      "\u001b[0;31m---------------------------------------------------------------------------\u001b[0m",
      "\u001b[0;31mIndexError\u001b[0m                                Traceback (most recent call last)",
      "\u001b[0;32m/tmp/ipykernel_3468261/3001999517.py\u001b[0m in \u001b[0;36m<module>\u001b[0;34m\u001b[0m\n\u001b[1;32m      4\u001b[0m \u001b[0mprint\u001b[0m\u001b[0;34m(\u001b[0m\u001b[0mtckr\u001b[0m\u001b[0;34m)\u001b[0m\u001b[0;34m\u001b[0m\u001b[0;34m\u001b[0m\u001b[0m\n\u001b[1;32m      5\u001b[0m \u001b[0mend_date\u001b[0m \u001b[0;34m=\u001b[0m \u001b[0mpd\u001b[0m\u001b[0;34m.\u001b[0m\u001b[0mTimestamp\u001b[0m\u001b[0;34m.\u001b[0m\u001b[0mnow\u001b[0m\u001b[0;34m(\u001b[0m\u001b[0;34m)\u001b[0m\u001b[0;34m.\u001b[0m\u001b[0mfloor\u001b[0m\u001b[0;34m(\u001b[0m\u001b[0;34m'D'\u001b[0m\u001b[0;34m)\u001b[0m \u001b[0;34m-\u001b[0m \u001b[0mpd\u001b[0m\u001b[0;34m.\u001b[0m\u001b[0mTimedelta\u001b[0m\u001b[0;34m(\u001b[0m\u001b[0;34m'1d'\u001b[0m\u001b[0;34m)\u001b[0m\u001b[0;34m\u001b[0m\u001b[0;34m\u001b[0m\u001b[0m\n\u001b[0;32m----> 6\u001b[0;31m \u001b[0mdata\u001b[0m \u001b[0;34m=\u001b[0m \u001b[0mGetStockHistory\u001b[0m\u001b[0;34m(\u001b[0m\u001b[0mtckr\u001b[0m\u001b[0;34m,\u001b[0m \u001b[0mend_date\u001b[0m\u001b[0;34m=\u001b[0m\u001b[0mend_date\u001b[0m\u001b[0;34m,\u001b[0m \u001b[0mhistory\u001b[0m\u001b[0;34m=\u001b[0m\u001b[0mntrain\u001b[0m \u001b[0;34m+\u001b[0m \u001b[0mlookback\u001b[0m\u001b[0;34m)\u001b[0m\u001b[0;34m\u001b[0m\u001b[0;34m\u001b[0m\u001b[0m\n\u001b[0m\u001b[1;32m      7\u001b[0m \u001b[0mdata\u001b[0m\u001b[0;34m\u001b[0m\u001b[0;34m\u001b[0m\u001b[0m\n",
      "\u001b[0;32m/media/wassname/SGIronWolf/projects5/timeseries/Volt/voltron/data/MakeData.py\u001b[0m in \u001b[0;36mGetStockHistory\u001b[0;34m(ticker, end_date, history)\u001b[0m\n\u001b[1;32m     41\u001b[0m         \u001b[0mend_date\u001b[0m \u001b[0;34m=\u001b[0m \u001b[0mpd\u001b[0m\u001b[0;34m.\u001b[0m\u001b[0mTimestamp\u001b[0m\u001b[0;34m(\u001b[0m\u001b[0mend_date\u001b[0m\u001b[0;34m)\u001b[0m\u001b[0;34m\u001b[0m\u001b[0;34m\u001b[0m\u001b[0m\n\u001b[1;32m     42\u001b[0m     \u001b[0mdata\u001b[0m \u001b[0;34m=\u001b[0m \u001b[0myf\u001b[0m\u001b[0;34m.\u001b[0m\u001b[0mdownload\u001b[0m\u001b[0;34m(\u001b[0m\u001b[0mtickers\u001b[0m\u001b[0;34m=\u001b[0m\u001b[0mticker\u001b[0m\u001b[0;34m,\u001b[0m \u001b[0mperiod\u001b[0m\u001b[0;34m=\u001b[0m\u001b[0;34m'10y'\u001b[0m\u001b[0;34m,\u001b[0m \u001b[0mprogress\u001b[0m\u001b[0;34m=\u001b[0m\u001b[0;32mFalse\u001b[0m\u001b[0;34m)\u001b[0m\u001b[0;34m\u001b[0m\u001b[0;34m\u001b[0m\u001b[0m\n\u001b[0;32m---> 43\u001b[0;31m     \u001b[0mend_idx\u001b[0m \u001b[0;34m=\u001b[0m \u001b[0mnp\u001b[0m\u001b[0;34m.\u001b[0m\u001b[0mwhere\u001b[0m\u001b[0;34m(\u001b[0m\u001b[0mdata\u001b[0m\u001b[0;34m.\u001b[0m\u001b[0mindex\u001b[0m \u001b[0;34m==\u001b[0m \u001b[0mend_date\u001b[0m\u001b[0;34m)\u001b[0m\u001b[0;34m[\u001b[0m\u001b[0;36m0\u001b[0m\u001b[0;34m]\u001b[0m\u001b[0;34m[\u001b[0m\u001b[0;36m0\u001b[0m\u001b[0;34m]\u001b[0m\u001b[0;34m\u001b[0m\u001b[0;34m\u001b[0m\u001b[0m\n\u001b[0m\u001b[1;32m     44\u001b[0m \u001b[0;34m\u001b[0m\u001b[0m\n\u001b[1;32m     45\u001b[0m     \u001b[0;32mreturn\u001b[0m \u001b[0mdata\u001b[0m\u001b[0;34m.\u001b[0m\u001b[0miloc\u001b[0m\u001b[0;34m[\u001b[0m\u001b[0mend_idx\u001b[0m\u001b[0;34m-\u001b[0m\u001b[0mhistory\u001b[0m\u001b[0;34m:\u001b[0m\u001b[0mend_idx\u001b[0m\u001b[0;34m]\u001b[0m\u001b[0;34m\u001b[0m\u001b[0;34m\u001b[0m\u001b[0m\n",
      "\u001b[0;31mIndexError\u001b[0m: index 0 is out of bounds for axis 0 with size 0"
     ]
    }
   ],
   "source": [
    "ntrain = 400\n",
    "lookback = 500\n",
    "forecast_horizon = 100\n",
    "print(tckr)\n",
    "end_date = pd.Timestamp.now().floor('D') - pd.Timedelta('1d')\n",
    "data = GetStockHistory(tckr, end_date=end_date, history=ntrain + lookback)\n",
    "data"
   ]
  },
  {
   "cell_type": "code",
   "execution_count": null,
   "id": "8bd012f7",
   "metadata": {
    "ExecuteTime": {
     "end_time": "2022-07-16T08:37:24.492842Z",
     "start_time": "2022-07-16T08:37:24.473856Z"
    }
   },
   "outputs": [
    {
     "name": "stdout",
     "output_type": "stream",
     "text": [
      "model                                                 lstm\n",
      "stock                                                 ADBE\n",
      "date                                   2020-07-21 00:00:00\n",
      "path     ../experiments/stocks/saved-outputs/ADBE/lstm_...\n",
      "Name: 0, dtype: object\n"
     ]
    },
    {
     "data": {
      "text/plain": [
       "torch.Size([1000, 20])"
      ]
     },
     "execution_count": 178,
     "metadata": {},
     "output_type": "execute_result"
    }
   ],
   "source": [
    "row = df_r.iloc[0]\n",
    "print(row)\n",
    "r = torch.load(row.path)\n",
    "# plt.plot(r.T)\n",
    "forecast_horizon=20\n",
    "r.shape"
   ]
  },
  {
   "cell_type": "code",
   "execution_count": null,
   "id": "afedf673",
   "metadata": {
    "ExecuteTime": {
     "end_time": "2022-07-16T08:37:24.704758Z",
     "start_time": "2022-07-16T08:37:24.683996Z"
    }
   },
   "outputs": [],
   "source": [
    "# data['Close'].plot()"
   ]
  },
  {
   "cell_type": "code",
   "execution_count": null,
   "id": "1ae93f54",
   "metadata": {
    "ExecuteTime": {
     "end_time": "2022-07-16T08:37:25.468571Z",
     "start_time": "2022-07-16T08:37:24.853026Z"
    }
   },
   "outputs": [
    {
     "data": {
      "text/plain": [
       "1"
      ]
     },
     "execution_count": 180,
     "metadata": {},
     "output_type": "execute_result"
    },
    {
     "data": {
      "image/png": "[encoded data removed]",
      "text/plain": [
       "<Figure size 432x288 with 1 Axes>"
      ]
     },
     "metadata": {
      "needs_background": "light"
     },
     "output_type": "display_data"
    }
   ],
   "source": [
    "past = data.loc[:row['date']].tail(lookback)['Close']\n",
    "future = data.loc[row['date']:].head(forecast_horizon)['Close']\n",
    "past.plot()\n",
    "future.plot()\n",
    "\n",
    "plt.plot(future.index, r.T+past.iloc[-1])\n",
    "1"
   ]
  },
  {
   "cell_type": "code",
   "execution_count": null,
   "id": "5c6d9a77",
   "metadata": {
    "ExecuteTime": {
     "end_time": "2022-07-16T08:38:37.905480Z",
     "start_time": "2022-07-16T08:38:37.309100Z"
    }
   },
   "outputs": [
    {
     "data": {
      "text/plain": [
       "1"
      ]
     },
     "execution_count": 183,
     "metadata": {},
     "output_type": "execute_result"
    },
    {
     "data": {
      "image/png": "[encoded data removed]",
      "text/plain": [
       "<Figure size 432x288 with 1 Axes>"
      ]
     },
     "metadata": {
      "needs_background": "light"
     },
     "output_type": "display_data"
    }
   ],
   "source": [
    "past = data.loc[:row['date']].tail(lookback)['Close']\n",
    "future = data.loc[row['date']:].head(forecast_horizon)['Close']\n",
    "past.plot()\n",
    "future.plot()\n",
    "\n",
    "plt.plot(future.index, r.T*70)\n",
    "1"
   ]
  },
  {
   "cell_type": "code",
   "execution_count": null,
   "id": "d8281a0d",
   "metadata": {},
   "outputs": [],
   "source": []
  },
  {
   "cell_type": "code",
   "execution_count": null,
   "id": "089cd43c",
   "metadata": {
    "ExecuteTime": {
     "end_time": "2022-07-16T08:37:03.374689Z",
     "start_time": "2022-07-16T08:37:03.358917Z"
    }
   },
   "outputs": [
    {
     "name": "stdout",
     "output_type": "stream",
     "text": [
      "model                                         volt_ewma300\n",
      "stock                                                 ADBE\n",
      "date                                   2020-07-21 00:00:00\n",
      "path     ../experiments/stocks/saved-outputs/ADBE/volt_...\n",
      "Name: 25, dtype: object\n"
     ]
    },
    {
     "data": {
      "text/plain": [
       "torch.Size([1000, 100])"
      ]
     },
     "execution_count": 173,
     "metadata": {},
     "output_type": "execute_result"
    }
   ],
   "source": [
    "row = df_r.query('model==\"volt_ewma300\"').iloc[0]\n",
    "print(row)\n",
    "r = torch.load(row.path)\n",
    "forecast_horizon=100\n",
    "r.shape"
   ]
  },
  {
   "cell_type": "code",
   "execution_count": null,
   "id": "892c1ac6",
   "metadata": {
    "ExecuteTime": {
     "end_time": "2022-07-16T08:37:04.323096Z",
     "start_time": "2022-07-16T08:37:03.538880Z"
    }
   },
   "outputs": [
    {
     "data": {
      "text/plain": [
       "1"
      ]
     },
     "execution_count": 174,
     "metadata": {},
     "output_type": "execute_result"
    },
    {
     "data": {
      "image/png": "[encoded data removed]",
      "text/plain": [
       "<Figure size 432x288 with 1 Axes>"
      ]
     },
     "metadata": {
      "needs_background": "light"
     },
     "output_type": "display_data"
    }
   ],
   "source": [
    "past = data.loc[:row['date']].tail(lookback)['Close']\n",
    "future = data.loc[row['date']:].head(forecast_horizon)['Close']\n",
    "past.plot()\n",
    "future.plot()\n",
    "\n",
    "plt.plot(future.index, 3*r.T+past.iloc[-1])\n",
    "1"
   ]
  },
  {
   "cell_type": "code",
   "execution_count": null,
   "id": "a6f03479",
   "metadata": {
    "ExecuteTime": {
     "end_time": "2022-07-16T08:37:14.672656Z",
     "start_time": "2022-07-16T08:37:13.558822Z"
    }
   },
   "outputs": [
    {
     "data": {
      "text/plain": [
       "1"
      ]
     },
     "execution_count": 177,
     "metadata": {},
     "output_type": "execute_result"
    },
    {
     "data": {
      "image/png": "[encoded data removed]",
      "text/plain": [
       "<Figure size 432x288 with 1 Axes>"
      ]
     },
     "metadata": {
      "needs_background": "light"
     },
     "output_type": "display_data"
    }
   ],
   "source": [
    "past = data.loc[:row['date']].tail(lookback)['Close']\n",
    "future = data.loc[row['date']:].head(forecast_horizon)['Close']\n",
    "past.plot()\n",
    "future.plot()\n",
    "\n",
    "plt.plot(future.index, r.T*70)\n",
    "1"
   ]
  },
  {
   "cell_type": "code",
   "execution_count": null,
   "id": "2654545b",
   "metadata": {},
   "outputs": [],
   "source": []
  },
  {
   "cell_type": "code",
   "execution_count": null,
   "id": "0f0fab28",
   "metadata": {},
   "outputs": [],
   "source": []
  }
 ],
 "metadata": {
  "kernelspec": {
   "display_name": "volt",
   "language": "python",
   "name": "volt"
  },
  "language_info": {
   "codemirror_mode": {
    "name": "ipython",
    "version": 3
   },
   "file_extension": ".py",
   "mimetype": "text/x-python",
   "name": "python",
   "nbconvert_exporter": "python",
   "pygments_lexer": "ipython3",
   "version": "3.7.12"
  },
  "toc": {
   "base_numbering": 1,
   "nav_menu": {},
   "number_sections": true,
   "sideBar": true,
   "skip_h1_title": false,
   "title_cell": "Table of Contents",
   "title_sidebar": "Contents",
   "toc_cell": false,
   "toc_position": {},
   "toc_section_display": true,
   "toc_window_display": false
  }
 },
 "nbformat": 4,
 "nbformat_minor": 5
}
